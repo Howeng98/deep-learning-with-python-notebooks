{
 "cells": [
  {
   "cell_type": "code",
   "execution_count": 1,
   "metadata": {},
   "outputs": [],
   "source": [
    "%matplotlib inline"
   ]
  },
  {
   "cell_type": "code",
   "execution_count": 33,
   "metadata": {},
   "outputs": [],
   "source": [
    "from keras.datasets import reuters\n",
    "\n",
    "(train_data, train_labels), (test_data, test_labels) = reuters.load_data(num_words = 10000)"
   ]
  },
  {
   "cell_type": "code",
   "execution_count": 34,
   "metadata": {},
   "outputs": [
    {
     "data": {
      "text/plain": [
       "8982"
      ]
     },
     "execution_count": 34,
     "metadata": {},
     "output_type": "execute_result"
    }
   ],
   "source": [
    "len(train_data)"
   ]
  },
  {
   "cell_type": "code",
   "execution_count": 35,
   "metadata": {},
   "outputs": [
    {
     "data": {
      "text/plain": [
       "2246"
      ]
     },
     "execution_count": 35,
     "metadata": {},
     "output_type": "execute_result"
    }
   ],
   "source": [
    "len(test_data)"
   ]
  },
  {
   "cell_type": "code",
   "execution_count": 36,
   "metadata": {},
   "outputs": [],
   "source": [
    "def decode_words(data):\n",
    "    word_index = reuters.get_word_index()\n",
    "    reverse_word_index = dict([(value, key) for (key, value) in word_index.items()])\n",
    "    decoded_newswire = ' '.join([reverse_word_index.get(i-3, '?') for i in data])\n",
    "    print(decoded_newswire)"
   ]
  },
  {
   "cell_type": "code",
   "execution_count": 37,
   "metadata": {},
   "outputs": [
    {
     "name": "stdout",
     "output_type": "stream",
     "text": [
      "? shr 3 28 dlrs vs 22 cts shr diluted 2 99 dlrs vs 22 cts net 46 0 mln vs 3 328 000 avg shrs 14 0 mln vs 15 2 mln year shr 5 41 dlrs vs 1 56 dlrs shr diluted 4 94 dlrs vs 1 50 dlrs net 78 2 mln vs 25 9 mln avg shrs 14 5 mln vs 15 1 mln note earnings per share reflect the two for one split effective january 6 1987 per share amounts are calculated after preferred stock dividends loss continuing operations for the qtr 1986 includes gains of sale of investments in ? corp of 14 mln dlrs and associated companies of 4 189 000 less writedowns of investments in national ? inc of 11 8 mln and ? corp of 15 6 mln reuter 3\n"
     ]
    }
   ],
   "source": [
    "decode_words(train_data[2])"
   ]
  },
  {
   "cell_type": "code",
   "execution_count": 38,
   "metadata": {},
   "outputs": [
    {
     "data": {
      "text/plain": [
       "3"
      ]
     },
     "execution_count": 38,
     "metadata": {},
     "output_type": "execute_result"
    }
   ],
   "source": [
    "train_labels[10]"
   ]
  },
  {
   "cell_type": "code",
   "execution_count": 39,
   "metadata": {},
   "outputs": [],
   "source": [
    "import numpy as np\n",
    "\n",
    "def vectorize_sequence(sequences, dimension=10000):\n",
    "    results = np.zeros((len(sequences), dimension))\n",
    "    for i, sequence in enumerate(sequences):\n",
    "        results[i, sequence] = 1;\n",
    "    return results"
   ]
  },
  {
   "cell_type": "code",
   "execution_count": 59,
   "metadata": {},
   "outputs": [],
   "source": [
    "x_train = vectorize_sequence(train_data)\n",
    "x_test = vectorize_sequence(test_data)"
   ]
  },
  {
   "cell_type": "code",
   "execution_count": 49,
   "metadata": {},
   "outputs": [],
   "source": [
    "def to_one_hot(labels, dimension=46):\n",
    "    results = np.zeros((len(labels), dimension))\n",
    "    for i, label in enumerate(labels):\n",
    "        results[i, label] = 1\n",
    "    return results"
   ]
  },
  {
   "cell_type": "code",
   "execution_count": 50,
   "metadata": {},
   "outputs": [],
   "source": [
    "one_hot_train_labels = to_one_hot(train_labels)\n",
    "one_hot_test_labels = to_one_hot(test_labels)"
   ]
  },
  {
   "cell_type": "code",
   "execution_count": 71,
   "metadata": {},
   "outputs": [],
   "source": [
    "from keras import models\n",
    "from keras import layers\n",
    "\n",
    "model = models.Sequential()\n",
    "model.add(layers.Dense(128, activation='relu', input_shape=(10000,)))\n",
    "model.add(layers.Dense(128, activation='relu',))\n",
    "model.add(layers.Dense(46, activation='softmax'))"
   ]
  },
  {
   "cell_type": "code",
   "execution_count": 72,
   "metadata": {},
   "outputs": [],
   "source": [
    "model.compile(optimizer='rmsprop',\n",
    "                     loss = 'categorical_crossentropy',\n",
    "                     metrics = ['accuracy'])"
   ]
  },
  {
   "cell_type": "code",
   "execution_count": 73,
   "metadata": {},
   "outputs": [],
   "source": [
    "x_val = x_train[:1000]\n",
    "partial_x_train = x_train[1000:]\n",
    "\n",
    "y_val = one_hot_train_labels[:1000]\n",
    "partial_y_train = one_hot_train_labels[1000:]"
   ]
  },
  {
   "cell_type": "code",
   "execution_count": 74,
   "metadata": {},
   "outputs": [
    {
     "name": "stdout",
     "output_type": "stream",
     "text": [
      "Train on 7982 samples, validate on 1000 samples\n",
      "Epoch 1/20\n",
      "7982/7982 [==============================] - 1s 84us/step - loss: 2.1648 - acc: 0.5436 - val_loss: 1.4225 - val_acc: 0.6700\n",
      "Epoch 2/20\n",
      "7982/7982 [==============================] - 0s 53us/step - loss: 1.1289 - acc: 0.7468 - val_loss: 1.0965 - val_acc: 0.7760\n",
      "Epoch 3/20\n",
      "7982/7982 [==============================] - 0s 53us/step - loss: 0.7947 - acc: 0.8294 - val_loss: 0.9838 - val_acc: 0.7920\n",
      "Epoch 4/20\n",
      "7982/7982 [==============================] - 0s 52us/step - loss: 0.5701 - acc: 0.8772 - val_loss: 0.9158 - val_acc: 0.8070\n",
      "Epoch 5/20\n",
      "7982/7982 [==============================] - 0s 53us/step - loss: 0.4132 - acc: 0.9118 - val_loss: 0.8726 - val_acc: 0.8230\n",
      "Epoch 6/20\n",
      "7982/7982 [==============================] - 0s 52us/step - loss: 0.3269 - acc: 0.9278 - val_loss: 0.8540 - val_acc: 0.8300\n",
      "Epoch 7/20\n",
      "7982/7982 [==============================] - 0s 52us/step - loss: 0.2372 - acc: 0.9442 - val_loss: 0.8717 - val_acc: 0.8240\n",
      "Epoch 8/20\n",
      "7982/7982 [==============================] - 0s 51us/step - loss: 0.2002 - acc: 0.9486 - val_loss: 0.9006 - val_acc: 0.8090\n",
      "Epoch 9/20\n",
      "7982/7982 [==============================] - 0s 53us/step - loss: 0.1844 - acc: 0.9510 - val_loss: 0.8987 - val_acc: 0.8180\n",
      "Epoch 10/20\n",
      "7982/7982 [==============================] - 0s 51us/step - loss: 0.1563 - acc: 0.9543 - val_loss: 0.9567 - val_acc: 0.8100\n",
      "Epoch 11/20\n",
      "7982/7982 [==============================] - 0s 52us/step - loss: 0.1452 - acc: 0.9545 - val_loss: 0.9910 - val_acc: 0.7960\n",
      "Epoch 12/20\n",
      "7982/7982 [==============================] - 0s 53us/step - loss: 0.1400 - acc: 0.9551 - val_loss: 0.9722 - val_acc: 0.8030\n",
      "Epoch 13/20\n",
      "7982/7982 [==============================] - 0s 53us/step - loss: 0.1277 - acc: 0.9570 - val_loss: 0.9779 - val_acc: 0.8150\n",
      "Epoch 14/20\n",
      "7982/7982 [==============================] - 0s 53us/step - loss: 0.1260 - acc: 0.9558 - val_loss: 1.0235 - val_acc: 0.8070\n",
      "Epoch 15/20\n",
      "7982/7982 [==============================] - 0s 51us/step - loss: 0.1175 - acc: 0.9555 - val_loss: 0.9828 - val_acc: 0.8040\n",
      "Epoch 16/20\n",
      "7982/7982 [==============================] - 0s 53us/step - loss: 0.1232 - acc: 0.9574 - val_loss: 1.0456 - val_acc: 0.8010\n",
      "Epoch 17/20\n",
      "7982/7982 [==============================] - 0s 51us/step - loss: 0.1112 - acc: 0.9554 - val_loss: 1.0188 - val_acc: 0.8050\n",
      "Epoch 18/20\n",
      "7982/7982 [==============================] - 0s 52us/step - loss: 0.1124 - acc: 0.9555 - val_loss: 1.0561 - val_acc: 0.8040\n",
      "Epoch 19/20\n",
      "7982/7982 [==============================] - 0s 53us/step - loss: 0.1070 - acc: 0.9574 - val_loss: 1.0926 - val_acc: 0.7990\n",
      "Epoch 20/20\n",
      "7982/7982 [==============================] - 0s 52us/step - loss: 0.1083 - acc: 0.9557 - val_loss: 1.0811 - val_acc: 0.7930\n"
     ]
    }
   ],
   "source": [
    "history = model.fit(partial_x_train,\n",
    "                           partial_y_train,\n",
    "                           epochs=20,\n",
    "                           batch_size=512,\n",
    "                           validation_data=(x_val, y_val))"
   ]
  },
  {
   "cell_type": "code",
   "execution_count": 75,
   "metadata": {},
   "outputs": [
    {
     "data": {
      "image/png": "[encoded data removed]",
      "text/plain": [
       "<Figure size 432x288 with 1 Axes>"
      ]
     },
     "metadata": {
      "needs_background": "light"
     },
     "output_type": "display_data"
    }
   ],
   "source": [
    "import matplotlib.pyplot as plt\n",
    "\n",
    "loss = history.history['loss']\n",
    "val_loss = history.history['val_loss']\n",
    "\n",
    "epochs = range(1, len(loss) + 1)\n",
    "\n",
    "plt.plot(epochs, loss, 'bo', label='Training loss')\n",
    "plt.plot(epochs, val_loss, 'b', label='Validation loss')\n",
    "plt.title('Training and validation loss')\n",
    "plt.xlabel('Epochs')\n",
    "plt.ylabel('Loss')\n",
    "plt.legend()\n",
    "\n",
    "plt.show()"
   ]
  },
  {
   "cell_type": "code",
   "execution_count": 76,
   "metadata": {},
   "outputs": [
    {
     "data": {
      "image/png": "[encoded data removed]",
      "text/plain": [
       "<Figure size 432x288 with 1 Axes>"
      ]
     },
     "metadata": {
      "needs_background": "light"
     },
     "output_type": "display_data"
    }
   ],
   "source": [
    "plt.clf()\n",
    "acc_values = history.history['acc']\n",
    "val_acc_values = history.history['val_acc']\n",
    "\n",
    "plt.plot(epochs, acc_values, 'bo', label='Training acc')\n",
    "plt.plot(epochs, val_acc_values, 'b', label='Validation acc')\n",
    "\n",
    "plt.title('Training and Validation accuracy')\n",
    "plt.xlabel('Epochs')\n",
    "plt.ylabel('Accuracy')\n",
    "plt.legend()\n",
    "\n",
    "plt.show()"
   ]
  },
  {
   "cell_type": "code",
   "execution_count": 79,
   "metadata": {},
   "outputs": [
    {
     "name": "stdout",
     "output_type": "stream",
     "text": [
      "Train on 7982 samples, validate on 1000 samples\n",
      "Epoch 1/3\n",
      "7982/7982 [==============================] - 1s 63us/step - loss: 2.2291 - acc: 0.5499 - val_loss: 1.4026 - val_acc: 0.6810\n",
      "Epoch 2/3\n",
      "7982/7982 [==============================] - 0s 41us/step - loss: 1.1250 - acc: 0.7575 - val_loss: 1.1107 - val_acc: 0.7580\n",
      "Epoch 3/3\n",
      "7982/7982 [==============================] - 0s 42us/step - loss: 0.7811 - acc: 0.8287 - val_loss: 0.9983 - val_acc: 0.7820\n",
      "2246/2246 [==============================] - 0s 53us/step\n"
     ]
    }
   ],
   "source": [
    "model = models.Sequential()\n",
    "model.add(layers.Dense(128, activation='relu', input_shape=(10000,)))\n",
    "model.add(layers.Dense(128, activation='relu',))\n",
    "model.add(layers.Dense(46, activation='softmax'))\n",
    "\n",
    "model.compile(optimizer='rmsprop',\n",
    "                     loss = 'categorical_crossentropy',\n",
    "                     metrics = ['accuracy'])\n",
    "\n",
    "model.fit(partial_x_train,\n",
    "             partial_y_train,\n",
    "             epochs=3,\n",
    "             batch_size=512,\n",
    "             validation_data=(x_val, y_val))\n",
    "\n",
    "results = model.evaluate(x_test, one_hot_test_labels)"
   ]
  },
  {
   "cell_type": "code",
   "execution_count": 80,
   "metadata": {},
   "outputs": [
    {
     "data": {
      "text/plain": [
       "[1.054753679520088, 0.766251113143014]"
      ]
     },
     "execution_count": 80,
     "metadata": {},
     "output_type": "execute_result"
    }
   ],
   "source": [
    "results"
   ]
  },
  {
   "cell_type": "code",
   "execution_count": 66,
   "metadata": {},
   "outputs": [],
   "source": [
    "predictions = model.predict(x_test)"
   ]
  },
  {
   "cell_type": "code",
   "execution_count": 67,
   "metadata": {},
   "outputs": [
    {
     "data": {
      "text/plain": [
       "(46,)"
      ]
     },
     "execution_count": 67,
     "metadata": {},
     "output_type": "execute_result"
    }
   ],
   "source": [
    "predictions[0].shape"
   ]
  },
  {
   "cell_type": "code",
   "execution_count": 68,
   "metadata": {},
   "outputs": [
    {
     "data": {
      "text/plain": [
       "0.99999994"
      ]
     },
     "execution_count": 68,
     "metadata": {},
     "output_type": "execute_result"
    }
   ],
   "source": [
    "np.sum(predictions[0])"
   ]
  },
  {
   "cell_type": "code",
   "execution_count": 69,
   "metadata": {},
   "outputs": [
    {
     "data": {
      "text/plain": [
       "3"
      ]
     },
     "execution_count": 69,
     "metadata": {},
     "output_type": "execute_result"
    }
   ],
   "source": [
    "np.argmax(predictions[0])"
   ]
  },
  {
   "cell_type": "code",
   "execution_count": null,
   "metadata": {},
   "outputs": [],
   "source": []
  }
 ],
 "metadata": {
  "kernelspec": {
   "display_name": "Python 3",
   "language": "python",
   "name": "python3"
  },
  "language_info": {
   "codemirror_mode": {
    "name": "ipython",
    "version": 3
   },
   "file_extension": ".py",
   "mimetype": "text/x-python",
   "name": "python",
   "nbconvert_exporter": "python",
   "pygments_lexer": "ipython3",
   "version": "3.6.7"
  }
 },
 "nbformat": 4,
 "nbformat_minor": 2
}
